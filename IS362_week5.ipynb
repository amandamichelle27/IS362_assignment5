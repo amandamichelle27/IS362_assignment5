{
 "cells": [
  {
   "cell_type": "markdown",
   "metadata": {},
   "source": [
    "We'll start by reading in the data from the online repository, using `read_csv` which has such functionality built-in."
   ]
  },
  {
   "cell_type": "code",
   "execution_count": 18,
   "metadata": {},
   "outputs": [],
   "source": [
    "import pandas as pd\n",
    "airports = pd.read_csv(\"https://raw.githubusercontent.com/hadley/nycflights13/master/data-raw/airports.csv\")\n",
    "weather = pd.read_csv(\"https://raw.githubusercontent.com/hadley/nycflights13/master/data-raw/weather.csv\")"
   ]
  },
  {
   "cell_type": "markdown",
   "metadata": {},
   "source": [
    "We'll be using the `nlargest` method for each of these problems, as it fits our needs perfectly. In practical terms, this operation is similar to an `ORDER BY` with a `LIMIT` clause in SQL. Not only is it more convenient than sorting the entire data frame and taking the head, it's also more efficient as it only keeps to track of a single row at once and doesn't have to reorganize the entire table.\n",
    "\n",
    "The northernmost airport is the one with the highest latitude, so we will sort on the `lat` column. \n",
    "\n",
    "The first argument will be the number of rows we want to keep. In a perfect world, this would simply be `1`, as we want the single northernmost airport. However, this data has an error - Dillant Hopkins Airport has its latitude and longitude swapped and will incorrectly show up as the northernmost airport. The true answer is the second row, Wiley Post Will Rogers Memorial Airport. Plotting this on a map shows that is on the north coast of Alaska, so we can be reasonably sure that our methodology was correct."
   ]
  },
  {
   "cell_type": "code",
   "execution_count": 19,
   "metadata": {},
   "outputs": [
    {
     "name": "stdout",
     "output_type": "stream",
     "text": [
      "     faa                        name        lat         lon  alt   tz dst  \\\n",
      "417  EEN     Dillant Hopkins Airport  72.270833   42.898333  149 -5.0   A   \n",
      "230  BRW  Wiley Post Will Rogers Mem  71.285446 -156.766003   44 -9.0   A   \n",
      "\n",
      "                 tzone  \n",
      "417                 \\N  \n",
      "230  America/Anchorage  \n"
     ]
    }
   ],
   "source": [
    "print(airports.nlargest(2, \"lat\"))"
   ]
  },
  {
   "cell_type": "markdown",
   "metadata": {},
   "source": [
    "The second problem is solved a similar fashion. Because longitude ranges from `-180°` in the west to `180°` in the east, finding the easternmost airport is equivalent to finding the one with the highest longitude, and so we can use `nlargest` again, this time sorting on `lon`. There is no error in the data that affects this problem, so we only need to display the single row, which shows that the easternmost airport is Eareckson Air Station. Funnily enough, this airport is also is Alaska, as Alaska happens to the northermost, westernmost, and easternmost state because it spans the International Date Line."
   ]
  },
  {
   "cell_type": "code",
   "execution_count": 20,
   "metadata": {},
   "outputs": [
    {
     "name": "stdout",
     "output_type": "stream",
     "text": [
      "      faa          name        lat        lon  alt   tz dst              tzone\n",
      "1290  SYA  Eareckson As  52.712275  174.11362   98 -9.0   A  America/Anchorage\n"
     ]
    }
   ],
   "source": [
    "print(airports.nlargest(1, \"lon\"))"
   ]
  },
  {
   "cell_type": "markdown",
   "metadata": {},
   "source": [
    "For the third problem, we'll first filter the weather data to only include the data for the given day, February 12, 2013. We'll then use `nlargest` again to find the row with the largest value for `wind_speed`. This finds the measurement for the single maximal wind speed, which may not represent the airport with the highest average wind speed across the entire day. As shown below, the answer is Newark airport."
   ]
  },
  {
   "cell_type": "code",
   "execution_count": 21,
   "metadata": {},
   "outputs": [
    {
     "name": "stdout",
     "output_type": "stream",
     "text": [
      "     origin  year  month  day  hour   temp   dewp  humid  wind_dir  \\\n",
      "1015    EWR  2013      2   12     8  39.02  26.96  61.63     260.0   \n",
      "\n",
      "      wind_speed    wind_gust  precip  pressure  visib             time_hour  \n",
      "1015  1048.36058  1206.432388     0.0    1008.3   10.0  2013-02-12T08:00:00Z  \n"
     ]
    }
   ],
   "source": [
    "weather = weather[(weather[\"year\"] == 2013) & (weather[\"month\"] == 2) & (weather[\"day\"] == 12)]\n",
    "print(weather.nlargest(1, \"wind_speed\"))"
   ]
  }
 ],
 "metadata": {
  "kernelspec": {
   "display_name": "Python 3",
   "language": "python",
   "name": "python3"
  },
  "language_info": {
   "codemirror_mode": {
    "name": "ipython",
    "version": 3
   },
   "file_extension": ".py",
   "mimetype": "text/x-python",
   "name": "python",
   "nbconvert_exporter": "python",
   "pygments_lexer": "ipython3",
   "version": "3.6.3"
  }
 },
 "nbformat": 4,
 "nbformat_minor": 2
}
